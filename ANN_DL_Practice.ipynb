{
 "cells": [
  {
   "cell_type": "code",
   "execution_count": 1,
   "metadata": {},
   "outputs": [],
   "source": [
    "import numpy as np\n",
    "import pandas as pd\n",
    "import tensorflow as tf\n",
    "from sklearn.preprocessing import StandardScaler, LabelEncoder, OneHotEncoder\n",
    "from sklearn.compose import ColumnTransformer\n",
    "from sklearn.model_selection import train_test_split\n",
    "from sklearn.metrics import confusion_matrix, classification_report"
   ]
  },
  {
   "cell_type": "code",
   "execution_count": 2,
   "metadata": {},
   "outputs": [
    {
     "data": {
      "text/plain": [
       "'2.4.1'"
      ]
     },
     "execution_count": 2,
     "metadata": {},
     "output_type": "execute_result"
    }
   ],
   "source": [
    "tf.__version__"
   ]
  },
  {
   "cell_type": "code",
   "execution_count": 3,
   "metadata": {},
   "outputs": [],
   "source": [
    "df = pd.read_csv('Churn_Modelling.csv')"
   ]
  },
  {
   "cell_type": "code",
   "execution_count": 4,
   "metadata": {},
   "outputs": [
    {
     "data": {
      "text/html": [
       "<div>\n",
       "<style scoped>\n",
       "    .dataframe tbody tr th:only-of-type {\n",
       "        vertical-align: middle;\n",
       "    }\n",
       "\n",
       "    .dataframe tbody tr th {\n",
       "        vertical-align: top;\n",
       "    }\n",
       "\n",
       "    .dataframe thead th {\n",
       "        text-align: right;\n",
       "    }\n",
       "</style>\n",
       "<table border=\"1\" class=\"dataframe\">\n",
       "  <thead>\n",
       "    <tr style=\"text-align: right;\">\n",
       "      <th></th>\n",
       "      <th>RowNumber</th>\n",
       "      <th>CustomerId</th>\n",
       "      <th>Surname</th>\n",
       "      <th>CreditScore</th>\n",
       "      <th>Geography</th>\n",
       "      <th>Gender</th>\n",
       "      <th>Age</th>\n",
       "      <th>Tenure</th>\n",
       "      <th>Balance</th>\n",
       "      <th>NumOfProducts</th>\n",
       "      <th>HasCrCard</th>\n",
       "      <th>IsActiveMember</th>\n",
       "      <th>EstimatedSalary</th>\n",
       "      <th>Exited</th>\n",
       "    </tr>\n",
       "  </thead>\n",
       "  <tbody>\n",
       "    <tr>\n",
       "      <th>0</th>\n",
       "      <td>1</td>\n",
       "      <td>15634602</td>\n",
       "      <td>Hargrave</td>\n",
       "      <td>619</td>\n",
       "      <td>France</td>\n",
       "      <td>Female</td>\n",
       "      <td>42</td>\n",
       "      <td>2</td>\n",
       "      <td>0.00</td>\n",
       "      <td>1</td>\n",
       "      <td>1</td>\n",
       "      <td>1</td>\n",
       "      <td>101348.88</td>\n",
       "      <td>1</td>\n",
       "    </tr>\n",
       "    <tr>\n",
       "      <th>1</th>\n",
       "      <td>2</td>\n",
       "      <td>15647311</td>\n",
       "      <td>Hill</td>\n",
       "      <td>608</td>\n",
       "      <td>Spain</td>\n",
       "      <td>Female</td>\n",
       "      <td>41</td>\n",
       "      <td>1</td>\n",
       "      <td>83807.86</td>\n",
       "      <td>1</td>\n",
       "      <td>0</td>\n",
       "      <td>1</td>\n",
       "      <td>112542.58</td>\n",
       "      <td>0</td>\n",
       "    </tr>\n",
       "    <tr>\n",
       "      <th>2</th>\n",
       "      <td>3</td>\n",
       "      <td>15619304</td>\n",
       "      <td>Onio</td>\n",
       "      <td>502</td>\n",
       "      <td>France</td>\n",
       "      <td>Female</td>\n",
       "      <td>42</td>\n",
       "      <td>8</td>\n",
       "      <td>159660.80</td>\n",
       "      <td>3</td>\n",
       "      <td>1</td>\n",
       "      <td>0</td>\n",
       "      <td>113931.57</td>\n",
       "      <td>1</td>\n",
       "    </tr>\n",
       "    <tr>\n",
       "      <th>3</th>\n",
       "      <td>4</td>\n",
       "      <td>15701354</td>\n",
       "      <td>Boni</td>\n",
       "      <td>699</td>\n",
       "      <td>France</td>\n",
       "      <td>Female</td>\n",
       "      <td>39</td>\n",
       "      <td>1</td>\n",
       "      <td>0.00</td>\n",
       "      <td>2</td>\n",
       "      <td>0</td>\n",
       "      <td>0</td>\n",
       "      <td>93826.63</td>\n",
       "      <td>0</td>\n",
       "    </tr>\n",
       "    <tr>\n",
       "      <th>4</th>\n",
       "      <td>5</td>\n",
       "      <td>15737888</td>\n",
       "      <td>Mitchell</td>\n",
       "      <td>850</td>\n",
       "      <td>Spain</td>\n",
       "      <td>Female</td>\n",
       "      <td>43</td>\n",
       "      <td>2</td>\n",
       "      <td>125510.82</td>\n",
       "      <td>1</td>\n",
       "      <td>1</td>\n",
       "      <td>1</td>\n",
       "      <td>79084.10</td>\n",
       "      <td>0</td>\n",
       "    </tr>\n",
       "  </tbody>\n",
       "</table>\n",
       "</div>"
      ],
      "text/plain": [
       "   RowNumber  CustomerId   Surname  CreditScore Geography  Gender  Age  \\\n",
       "0          1    15634602  Hargrave          619    France  Female   42   \n",
       "1          2    15647311      Hill          608     Spain  Female   41   \n",
       "2          3    15619304      Onio          502    France  Female   42   \n",
       "3          4    15701354      Boni          699    France  Female   39   \n",
       "4          5    15737888  Mitchell          850     Spain  Female   43   \n",
       "\n",
       "   Tenure    Balance  NumOfProducts  HasCrCard  IsActiveMember  \\\n",
       "0       2       0.00              1          1               1   \n",
       "1       1   83807.86              1          0               1   \n",
       "2       8  159660.80              3          1               0   \n",
       "3       1       0.00              2          0               0   \n",
       "4       2  125510.82              1          1               1   \n",
       "\n",
       "   EstimatedSalary  Exited  \n",
       "0        101348.88       1  \n",
       "1        112542.58       0  \n",
       "2        113931.57       1  \n",
       "3         93826.63       0  \n",
       "4         79084.10       0  "
      ]
     },
     "execution_count": 4,
     "metadata": {},
     "output_type": "execute_result"
    }
   ],
   "source": [
    "df.head()"
   ]
  },
  {
   "cell_type": "code",
   "execution_count": 5,
   "metadata": {},
   "outputs": [
    {
     "name": "stdout",
     "output_type": "stream",
     "text": [
      "<class 'pandas.core.frame.DataFrame'>\n",
      "RangeIndex: 10000 entries, 0 to 9999\n",
      "Data columns (total 14 columns):\n",
      " #   Column           Non-Null Count  Dtype  \n",
      "---  ------           --------------  -----  \n",
      " 0   RowNumber        10000 non-null  int64  \n",
      " 1   CustomerId       10000 non-null  int64  \n",
      " 2   Surname          10000 non-null  object \n",
      " 3   CreditScore      10000 non-null  int64  \n",
      " 4   Geography        10000 non-null  object \n",
      " 5   Gender           10000 non-null  object \n",
      " 6   Age              10000 non-null  int64  \n",
      " 7   Tenure           10000 non-null  int64  \n",
      " 8   Balance          10000 non-null  float64\n",
      " 9   NumOfProducts    10000 non-null  int64  \n",
      " 10  HasCrCard        10000 non-null  int64  \n",
      " 11  IsActiveMember   10000 non-null  int64  \n",
      " 12  EstimatedSalary  10000 non-null  float64\n",
      " 13  Exited           10000 non-null  int64  \n",
      "dtypes: float64(2), int64(9), object(3)\n",
      "memory usage: 1.1+ MB\n"
     ]
    }
   ],
   "source": [
    "df.info()"
   ]
  },
  {
   "cell_type": "code",
   "execution_count": 6,
   "metadata": {},
   "outputs": [
    {
     "name": "stdout",
     "output_type": "stream",
     "text": [
      "No of duplicates: 0\n"
     ]
    },
    {
     "data": {
      "text/html": [
       "<div>\n",
       "<style scoped>\n",
       "    .dataframe tbody tr th:only-of-type {\n",
       "        vertical-align: middle;\n",
       "    }\n",
       "\n",
       "    .dataframe tbody tr th {\n",
       "        vertical-align: top;\n",
       "    }\n",
       "\n",
       "    .dataframe thead th {\n",
       "        text-align: right;\n",
       "    }\n",
       "</style>\n",
       "<table border=\"1\" class=\"dataframe\">\n",
       "  <thead>\n",
       "    <tr style=\"text-align: right;\">\n",
       "      <th></th>\n",
       "      <th>RowNumber</th>\n",
       "      <th>CustomerId</th>\n",
       "      <th>Surname</th>\n",
       "      <th>CreditScore</th>\n",
       "      <th>Geography</th>\n",
       "      <th>Gender</th>\n",
       "      <th>Age</th>\n",
       "      <th>Tenure</th>\n",
       "      <th>Balance</th>\n",
       "      <th>NumOfProducts</th>\n",
       "      <th>HasCrCard</th>\n",
       "      <th>IsActiveMember</th>\n",
       "      <th>EstimatedSalary</th>\n",
       "      <th>Exited</th>\n",
       "    </tr>\n",
       "  </thead>\n",
       "  <tbody>\n",
       "  </tbody>\n",
       "</table>\n",
       "</div>"
      ],
      "text/plain": [
       "Empty DataFrame\n",
       "Columns: [RowNumber, CustomerId, Surname, CreditScore, Geography, Gender, Age, Tenure, Balance, NumOfProducts, HasCrCard, IsActiveMember, EstimatedSalary, Exited]\n",
       "Index: []"
      ]
     },
     "execution_count": 6,
     "metadata": {},
     "output_type": "execute_result"
    }
   ],
   "source": [
    "dupes = df.duplicated()\n",
    "print('No of duplicates:', dupes.sum())\n",
    "df[dupes]"
   ]
  },
  {
   "cell_type": "code",
   "execution_count": 7,
   "metadata": {},
   "outputs": [],
   "source": [
    "X = df.iloc[:,3:-1].values\n",
    "y = df.iloc[:,-1].values"
   ]
  },
  {
   "cell_type": "code",
   "execution_count": 8,
   "metadata": {},
   "outputs": [
    {
     "data": {
      "text/plain": [
       "array([[619, 'France', 'Female', ..., 1, 1, 101348.88],\n",
       "       [608, 'Spain', 'Female', ..., 0, 1, 112542.58],\n",
       "       [502, 'France', 'Female', ..., 1, 0, 113931.57],\n",
       "       ...,\n",
       "       [709, 'France', 'Female', ..., 0, 1, 42085.58],\n",
       "       [772, 'Germany', 'Male', ..., 1, 0, 92888.52],\n",
       "       [792, 'France', 'Female', ..., 1, 0, 38190.78]], dtype=object)"
      ]
     },
     "execution_count": 8,
     "metadata": {},
     "output_type": "execute_result"
    }
   ],
   "source": [
    "X"
   ]
  },
  {
   "cell_type": "code",
   "execution_count": 9,
   "metadata": {},
   "outputs": [
    {
     "data": {
      "text/plain": [
       "array([1, 0, 1, ..., 1, 1, 0], dtype=int64)"
      ]
     },
     "execution_count": 9,
     "metadata": {},
     "output_type": "execute_result"
    }
   ],
   "source": [
    "y"
   ]
  },
  {
   "cell_type": "code",
   "execution_count": 10,
   "metadata": {},
   "outputs": [],
   "source": [
    "le = LabelEncoder()\n",
    "X[:,2] = le.fit_transform(X[:,2])"
   ]
  },
  {
   "cell_type": "code",
   "execution_count": 11,
   "metadata": {},
   "outputs": [],
   "source": [
    "ct = ColumnTransformer(transformers=[('encoders', OneHotEncoder(), [1])], remainder = 'passthrough')\n",
    "X = np.array(ct.fit_transform(X))"
   ]
  },
  {
   "cell_type": "code",
   "execution_count": 12,
   "metadata": {},
   "outputs": [],
   "source": [
    "X_train, X_test, y_train, y_test = train_test_split(X,y,test_size=0.33, random_state=42)"
   ]
  },
  {
   "cell_type": "code",
   "execution_count": 13,
   "metadata": {},
   "outputs": [
    {
     "name": "stdout",
     "output_type": "stream",
     "text": [
      "(6700, 12)\n",
      "(3300, 12)\n",
      "(6700,)\n",
      "(3300,)\n"
     ]
    }
   ],
   "source": [
    "print(X_train.shape)\n",
    "print(X_test.shape)\n",
    "print(y_train.shape)\n",
    "print(y_test.shape)"
   ]
  },
  {
   "cell_type": "code",
   "execution_count": 14,
   "metadata": {},
   "outputs": [],
   "source": [
    "sc = StandardScaler()\n",
    "X_train = sc.fit_transform(X_train)\n",
    "X_test = sc.transform(X_test)"
   ]
  },
  {
   "cell_type": "code",
   "execution_count": 15,
   "metadata": {},
   "outputs": [],
   "source": [
    "ann = tf.keras.models.Sequential()"
   ]
  },
  {
   "cell_type": "code",
   "execution_count": 16,
   "metadata": {},
   "outputs": [],
   "source": [
    "ann.add(tf.keras.layers.Dense(units = 20, activation = 'relu'))\n",
    "ann.add(tf.keras.layers.Dense(units = 20, activation = 'relu'))\n",
    "\n",
    "ann.add(tf.keras.layers.Dense(units = 1, activation = 'sigmoid'))"
   ]
  },
  {
   "cell_type": "code",
   "execution_count": 17,
   "metadata": {},
   "outputs": [],
   "source": [
    "ann.compile(optimizer='adam',loss='binary_crossentropy', metrics = ['accuracy'])"
   ]
  },
  {
   "cell_type": "code",
   "execution_count": 18,
   "metadata": {
    "scrolled": true
   },
   "outputs": [
    {
     "name": "stdout",
     "output_type": "stream",
     "text": [
      "Epoch 1/100\n",
      "210/210 [==============================] - 1s 1ms/step - loss: 0.5953 - accuracy: 0.6788\n",
      "Epoch 2/100\n",
      "210/210 [==============================] - 0s 1ms/step - loss: 0.4321 - accuracy: 0.8190\n",
      "Epoch 3/100\n",
      "210/210 [==============================] - 0s 1ms/step - loss: 0.4155 - accuracy: 0.8218\n",
      "Epoch 4/100\n",
      "210/210 [==============================] - 0s 1ms/step - loss: 0.3972 - accuracy: 0.8346\n",
      "Epoch 5/100\n",
      "210/210 [==============================] - 0s 1ms/step - loss: 0.3761 - accuracy: 0.8476\n",
      "Epoch 6/100\n",
      "210/210 [==============================] - 0s 2ms/step - loss: 0.3736 - accuracy: 0.8492\n",
      "Epoch 7/100\n",
      "210/210 [==============================] - 0s 2ms/step - loss: 0.3551 - accuracy: 0.8549\n",
      "Epoch 8/100\n",
      "210/210 [==============================] - 0s 2ms/step - loss: 0.3419 - accuracy: 0.8619\n",
      "Epoch 9/100\n",
      "210/210 [==============================] - 0s 1ms/step - loss: 0.3571 - accuracy: 0.8533\n",
      "Epoch 10/100\n",
      "210/210 [==============================] - 0s 1ms/step - loss: 0.3421 - accuracy: 0.8569\n",
      "Epoch 11/100\n",
      "210/210 [==============================] - 0s 1ms/step - loss: 0.3448 - accuracy: 0.8604\n",
      "Epoch 12/100\n",
      "210/210 [==============================] - 0s 1ms/step - loss: 0.3421 - accuracy: 0.8609\n",
      "Epoch 13/100\n",
      "210/210 [==============================] - 0s 1ms/step - loss: 0.3468 - accuracy: 0.8527\n",
      "Epoch 14/100\n",
      "210/210 [==============================] - 0s 1ms/step - loss: 0.3371 - accuracy: 0.8614\n",
      "Epoch 15/100\n",
      "210/210 [==============================] - 0s 1ms/step - loss: 0.3346 - accuracy: 0.8635\n",
      "Epoch 16/100\n",
      "210/210 [==============================] - 0s 1ms/step - loss: 0.3275 - accuracy: 0.8670\n",
      "Epoch 17/100\n",
      "210/210 [==============================] - 0s 1ms/step - loss: 0.3363 - accuracy: 0.8618\n",
      "Epoch 18/100\n",
      "210/210 [==============================] - 0s 1ms/step - loss: 0.3344 - accuracy: 0.8636\n",
      "Epoch 19/100\n",
      "210/210 [==============================] - 0s 1ms/step - loss: 0.3280 - accuracy: 0.8662\n",
      "Epoch 20/100\n",
      "210/210 [==============================] - 0s 1ms/step - loss: 0.3452 - accuracy: 0.8509\n",
      "Epoch 21/100\n",
      "210/210 [==============================] - 0s 2ms/step - loss: 0.3202 - accuracy: 0.8688\n",
      "Epoch 22/100\n",
      "210/210 [==============================] - 0s 1ms/step - loss: 0.3156 - accuracy: 0.8691\n",
      "Epoch 23/100\n",
      "210/210 [==============================] - 0s 1ms/step - loss: 0.3287 - accuracy: 0.8615\n",
      "Epoch 24/100\n",
      "210/210 [==============================] - 0s 1ms/step - loss: 0.3385 - accuracy: 0.8572\n",
      "Epoch 25/100\n",
      "210/210 [==============================] - 0s 1ms/step - loss: 0.3270 - accuracy: 0.8655\n",
      "Epoch 26/100\n",
      "210/210 [==============================] - 0s 1ms/step - loss: 0.3191 - accuracy: 0.8693\n",
      "Epoch 27/100\n",
      "210/210 [==============================] - 0s 2ms/step - loss: 0.3288 - accuracy: 0.8623\n",
      "Epoch 28/100\n",
      "210/210 [==============================] - 0s 1ms/step - loss: 0.3182 - accuracy: 0.8708\n",
      "Epoch 29/100\n",
      "210/210 [==============================] - 0s 1ms/step - loss: 0.3114 - accuracy: 0.8719\n",
      "Epoch 30/100\n",
      "210/210 [==============================] - 0s 1ms/step - loss: 0.3295 - accuracy: 0.8572\n",
      "Epoch 31/100\n",
      "210/210 [==============================] - 0s 1ms/step - loss: 0.3376 - accuracy: 0.8545\n",
      "Epoch 32/100\n",
      "210/210 [==============================] - 0s 2ms/step - loss: 0.3287 - accuracy: 0.8601\n",
      "Epoch 33/100\n",
      "210/210 [==============================] - 0s 1ms/step - loss: 0.3219 - accuracy: 0.8660\n",
      "Epoch 34/100\n",
      "210/210 [==============================] - 0s 1ms/step - loss: 0.3204 - accuracy: 0.8635\n",
      "Epoch 35/100\n",
      "210/210 [==============================] - 0s 2ms/step - loss: 0.3247 - accuracy: 0.8683\n",
      "Epoch 36/100\n",
      "210/210 [==============================] - 0s 2ms/step - loss: 0.3179 - accuracy: 0.8689\n",
      "Epoch 37/100\n",
      "210/210 [==============================] - 0s 1ms/step - loss: 0.3326 - accuracy: 0.8538\n",
      "Epoch 38/100\n",
      "210/210 [==============================] - 0s 1ms/step - loss: 0.3198 - accuracy: 0.8663\n",
      "Epoch 39/100\n",
      "210/210 [==============================] - 0s 1ms/step - loss: 0.3130 - accuracy: 0.8697\n",
      "Epoch 40/100\n",
      "210/210 [==============================] - 0s 1ms/step - loss: 0.3082 - accuracy: 0.8742\n",
      "Epoch 41/100\n",
      "210/210 [==============================] - 0s 1ms/step - loss: 0.3244 - accuracy: 0.8657\n",
      "Epoch 42/100\n",
      "210/210 [==============================] - 0s 1ms/step - loss: 0.3265 - accuracy: 0.8614\n",
      "Epoch 43/100\n",
      "210/210 [==============================] - 0s 1ms/step - loss: 0.3249 - accuracy: 0.8668\n",
      "Epoch 44/100\n",
      "210/210 [==============================] - 0s 1ms/step - loss: 0.3146 - accuracy: 0.8682\n",
      "Epoch 45/100\n",
      "210/210 [==============================] - 0s 2ms/step - loss: 0.3122 - accuracy: 0.8668\n",
      "Epoch 46/100\n",
      "210/210 [==============================] - 0s 1ms/step - loss: 0.3145 - accuracy: 0.8712\n",
      "Epoch 47/100\n",
      "210/210 [==============================] - 0s 1ms/step - loss: 0.3006 - accuracy: 0.8772\n",
      "Epoch 48/100\n",
      "210/210 [==============================] - 0s 2ms/step - loss: 0.3102 - accuracy: 0.8731\n",
      "Epoch 49/100\n",
      "210/210 [==============================] - 0s 2ms/step - loss: 0.3147 - accuracy: 0.8650\n",
      "Epoch 50/100\n",
      "210/210 [==============================] - 0s 1ms/step - loss: 0.3128 - accuracy: 0.8679\n",
      "Epoch 51/100\n",
      "210/210 [==============================] - 0s 1ms/step - loss: 0.3078 - accuracy: 0.8755\n",
      "Epoch 52/100\n",
      "210/210 [==============================] - 0s 2ms/step - loss: 0.3178 - accuracy: 0.8662\n",
      "Epoch 53/100\n",
      "210/210 [==============================] - 0s 1ms/step - loss: 0.2978 - accuracy: 0.8785\n",
      "Epoch 54/100\n",
      "210/210 [==============================] - 0s 1ms/step - loss: 0.3171 - accuracy: 0.8706\n",
      "Epoch 55/100\n",
      "210/210 [==============================] - 0s 1ms/step - loss: 0.3130 - accuracy: 0.8683\n",
      "Epoch 56/100\n",
      "210/210 [==============================] - 0s 1ms/step - loss: 0.3123 - accuracy: 0.8626\n",
      "Epoch 57/100\n",
      "210/210 [==============================] - 0s 1ms/step - loss: 0.3127 - accuracy: 0.8704\n",
      "Epoch 58/100\n",
      "210/210 [==============================] - 0s 2ms/step - loss: 0.3196 - accuracy: 0.8677\n",
      "Epoch 59/100\n",
      "210/210 [==============================] - 0s 2ms/step - loss: 0.3216 - accuracy: 0.8607\n",
      "Epoch 60/100\n",
      "210/210 [==============================] - 0s 1ms/step - loss: 0.2939 - accuracy: 0.8799\n",
      "Epoch 61/100\n",
      "210/210 [==============================] - 0s 2ms/step - loss: 0.3042 - accuracy: 0.8741\n",
      "Epoch 62/100\n",
      "210/210 [==============================] - 0s 1ms/step - loss: 0.3245 - accuracy: 0.8619\n",
      "Epoch 63/100\n",
      "210/210 [==============================] - 0s 2ms/step - loss: 0.3213 - accuracy: 0.8677\n",
      "Epoch 64/100\n",
      "210/210 [==============================] - 1s 3ms/step - loss: 0.3048 - accuracy: 0.8718\n",
      "Epoch 65/100\n",
      "210/210 [==============================] - 1s 5ms/step - loss: 0.3014 - accuracy: 0.8745\n",
      "Epoch 66/100\n",
      "210/210 [==============================] - 1s 3ms/step - loss: 0.3140 - accuracy: 0.8673\n",
      "Epoch 67/100\n",
      "210/210 [==============================] - 1s 3ms/step - loss: 0.3137 - accuracy: 0.8675\n",
      "Epoch 68/100\n",
      "210/210 [==============================] - 1s 3ms/step - loss: 0.3129 - accuracy: 0.8662\n",
      "Epoch 69/100\n",
      "210/210 [==============================] - 1s 3ms/step - loss: 0.2894 - accuracy: 0.8815\n",
      "Epoch 70/100\n",
      "210/210 [==============================] - 1s 3ms/step - loss: 0.3048 - accuracy: 0.8690\n",
      "Epoch 71/100\n",
      "210/210 [==============================] - 0s 2ms/step - loss: 0.2953 - accuracy: 0.8764\n",
      "Epoch 72/100\n",
      "210/210 [==============================] - 0s 1ms/step - loss: 0.3105 - accuracy: 0.8755\n",
      "Epoch 73/100\n",
      "210/210 [==============================] - 0s 2ms/step - loss: 0.2977 - accuracy: 0.8744\n",
      "Epoch 74/100\n",
      "210/210 [==============================] - 0s 1ms/step - loss: 0.3075 - accuracy: 0.8664\n",
      "Epoch 75/100\n",
      "210/210 [==============================] - 0s 1ms/step - loss: 0.3026 - accuracy: 0.8718\n",
      "Epoch 76/100\n",
      "210/210 [==============================] - 0s 1ms/step - loss: 0.3050 - accuracy: 0.8729\n",
      "Epoch 77/100\n",
      "210/210 [==============================] - 0s 2ms/step - loss: 0.2953 - accuracy: 0.8788\n",
      "Epoch 78/100\n",
      "210/210 [==============================] - 0s 2ms/step - loss: 0.3076 - accuracy: 0.8703\n",
      "Epoch 79/100\n",
      "210/210 [==============================] - 0s 2ms/step - loss: 0.2916 - accuracy: 0.8794\n",
      "Epoch 80/100\n",
      "210/210 [==============================] - 0s 1ms/step - loss: 0.3206 - accuracy: 0.8640\n",
      "Epoch 81/100\n"
     ]
    },
    {
     "name": "stdout",
     "output_type": "stream",
     "text": [
      "210/210 [==============================] - 0s 1ms/step - loss: 0.2942 - accuracy: 0.8762\n",
      "Epoch 82/100\n",
      "210/210 [==============================] - 0s 1ms/step - loss: 0.3043 - accuracy: 0.8676\n",
      "Epoch 83/100\n",
      "210/210 [==============================] - 0s 1ms/step - loss: 0.3058 - accuracy: 0.8726\n",
      "Epoch 84/100\n",
      "210/210 [==============================] - 0s 1ms/step - loss: 0.2980 - accuracy: 0.8749\n",
      "Epoch 85/100\n",
      "210/210 [==============================] - 0s 1ms/step - loss: 0.3010 - accuracy: 0.8774\n",
      "Epoch 86/100\n",
      "210/210 [==============================] - 0s 1ms/step - loss: 0.3075 - accuracy: 0.8717\n",
      "Epoch 87/100\n",
      "210/210 [==============================] - 0s 1ms/step - loss: 0.2918 - accuracy: 0.8773\n",
      "Epoch 88/100\n",
      "210/210 [==============================] - 0s 1ms/step - loss: 0.3016 - accuracy: 0.8729\n",
      "Epoch 89/100\n",
      "210/210 [==============================] - 0s 1ms/step - loss: 0.3071 - accuracy: 0.8753\n",
      "Epoch 90/100\n",
      "210/210 [==============================] - 0s 1ms/step - loss: 0.2954 - accuracy: 0.8807\n",
      "Epoch 91/100\n",
      "210/210 [==============================] - 0s 2ms/step - loss: 0.2961 - accuracy: 0.8811\n",
      "Epoch 92/100\n",
      "210/210 [==============================] - 0s 2ms/step - loss: 0.2983 - accuracy: 0.8725\n",
      "Epoch 93/100\n",
      "210/210 [==============================] - 0s 1ms/step - loss: 0.2989 - accuracy: 0.8751\n",
      "Epoch 94/100\n",
      "210/210 [==============================] - 0s 1ms/step - loss: 0.2949 - accuracy: 0.8753\n",
      "Epoch 95/100\n",
      "210/210 [==============================] - 0s 1ms/step - loss: 0.2921 - accuracy: 0.8774\n",
      "Epoch 96/100\n",
      "210/210 [==============================] - 0s 1ms/step - loss: 0.3096 - accuracy: 0.8761\n",
      "Epoch 97/100\n",
      "210/210 [==============================] - 0s 1ms/step - loss: 0.3067 - accuracy: 0.8734\n",
      "Epoch 98/100\n",
      "210/210 [==============================] - 0s 2ms/step - loss: 0.2927 - accuracy: 0.8779\n",
      "Epoch 99/100\n",
      "210/210 [==============================] - 0s 2ms/step - loss: 0.3026 - accuracy: 0.8704\n",
      "Epoch 100/100\n",
      "210/210 [==============================] - 0s 2ms/step - loss: 0.2885 - accuracy: 0.8811\n"
     ]
    },
    {
     "data": {
      "text/plain": [
       "<tensorflow.python.keras.callbacks.History at 0x1eca9ddfc10>"
      ]
     },
     "execution_count": 18,
     "metadata": {},
     "output_type": "execute_result"
    }
   ],
   "source": [
    "ann.fit(X_train, y_train, batch_size = 32, epochs= 100)"
   ]
  },
  {
   "cell_type": "code",
   "execution_count": 19,
   "metadata": {},
   "outputs": [],
   "source": [
    "#Predict on the train set\n",
    "y_train_pred = ann.predict(X_train)\n",
    "#Predict on the test set\n",
    "y_test_pred = ann.predict(X_test)\n",
    "y_test_pred = (y_test_pred > 0.5)"
   ]
  },
  {
   "cell_type": "code",
   "execution_count": 20,
   "metadata": {},
   "outputs": [
    {
     "data": {
      "text/plain": [
       "array([[0, 0],\n",
       "       [0, 0],\n",
       "       [0, 0],\n",
       "       ...,\n",
       "       [0, 0],\n",
       "       [0, 0],\n",
       "       [1, 1]], dtype=int64)"
      ]
     },
     "execution_count": 20,
     "metadata": {},
     "output_type": "execute_result"
    }
   ],
   "source": [
    "np.concatenate((y_test_pred.reshape(len(y_test_pred),1), y_test.reshape(len(y_test),1)),1)"
   ]
  },
  {
   "cell_type": "code",
   "execution_count": 21,
   "metadata": {},
   "outputs": [
    {
     "name": "stdout",
     "output_type": "stream",
     "text": [
      "[[2490  167]\n",
      " [ 303  340]]\n"
     ]
    }
   ],
   "source": [
    "print(confusion_matrix(y_test, y_test_pred))"
   ]
  },
  {
   "cell_type": "code",
   "execution_count": 22,
   "metadata": {},
   "outputs": [
    {
     "name": "stdout",
     "output_type": "stream",
     "text": [
      "              precision    recall  f1-score   support\n",
      "\n",
      "           0       0.89      0.94      0.91      2657\n",
      "           1       0.67      0.53      0.59       643\n",
      "\n",
      "    accuracy                           0.86      3300\n",
      "   macro avg       0.78      0.73      0.75      3300\n",
      "weighted avg       0.85      0.86      0.85      3300\n",
      "\n"
     ]
    }
   ],
   "source": [
    "print(classification_report(y_test, y_test_pred))"
   ]
  },
  {
   "cell_type": "code",
   "execution_count": 23,
   "metadata": {},
   "outputs": [],
   "source": [
    "#print(ann.predict(sc.transform([[1, 0, 0, 600, 1, 40, 3, 60000, 2, 1, 1, 50000]]))> 0.5)"
   ]
  }
 ],
 "metadata": {
  "kernelspec": {
   "display_name": "Python 3",
   "language": "python",
   "name": "python3"
  },
  "language_info": {
   "codemirror_mode": {
    "name": "ipython",
    "version": 3
   },
   "file_extension": ".py",
   "mimetype": "text/x-python",
   "name": "python",
   "nbconvert_exporter": "python",
   "pygments_lexer": "ipython3",
   "version": "3.8.3"
  }
 },
 "nbformat": 4,
 "nbformat_minor": 4
}
